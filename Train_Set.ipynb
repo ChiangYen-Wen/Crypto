{
 "cells": [
  {
   "cell_type": "code",
   "execution_count": 1,
   "metadata": {},
   "outputs": [],
   "source": [
    "import csv\n",
    "from datetime import datetime\n",
    "import glob\n",
    "import os\n",
    "from io import StringIO\n",
    "import requests\n",
    "import pytz\n",
    "import numpy as np\n",
    "import pandas as pd\n",
    "import matplotlib.pyplot as plt\n",
    "import mplfinance as mpf\n",
    "import seaborn as sns\n",
    "import statsmodels\n",
    "import statsmodels.api as sm\n",
    "from statsmodels.tsa.stattools import adfuller, coint\n",
    "from turtle import position"
   ]
  },
  {
   "cell_type": "markdown",
   "metadata": {},
   "source": [
    "### 訓練集資料，資料年份:2022/01~2023/12"
   ]
  },
  {
   "cell_type": "code",
   "execution_count": 2,
   "metadata": {},
   "outputs": [
    {
     "name": "stdout",
     "output_type": "stream",
     "text": [
      "                     UNIUSDT期貨價格  UNIUSDT現貨價格  DYDXUSDT期貨價格  DYDXUSDT現貨價格  \\\n",
      "open_time                                                                   \n",
      "2022-01-01 00:59:00       18.019       18.040         8.403         8.412   \n",
      "2022-01-01 01:00:00       18.038       18.030         8.429         8.433   \n",
      "2022-01-01 01:01:00       18.032       18.030         8.446         8.452   \n",
      "2022-01-01 01:02:00       18.032       18.030         8.455         8.462   \n",
      "2022-01-01 01:03:00       18.028       18.030         8.465         8.470   \n",
      "...                          ...          ...           ...           ...   \n",
      "2023-12-31 20:35:00        7.683        7.671         3.094         3.091   \n",
      "2023-12-31 20:36:00        7.684        7.673         3.094         3.092   \n",
      "2023-12-31 20:37:00        7.666        7.657         3.092         3.088   \n",
      "2023-12-31 20:38:00        7.663        7.655         3.093         3.089   \n",
      "2023-12-31 20:39:00        7.673        7.665         3.092         3.089   \n",
      "\n",
      "                     UNIUSDT_Spread  DYDXUSDT_Spread  Target_Spread       SMA  \\\n",
      "open_time                                                                       \n",
      "2022-01-01 00:59:00        0.998836         0.998930       0.999906  1.001136   \n",
      "2022-01-01 01:00:00        1.000444         0.999526       1.000918  1.001146   \n",
      "2022-01-01 01:01:00        1.000111         0.999290       1.000821  1.001149   \n",
      "2022-01-01 01:02:00        1.000111         0.999173       1.000939  1.001144   \n",
      "2022-01-01 01:03:00        0.999889         0.999410       1.000480  1.001141   \n",
      "...                             ...              ...            ...       ...   \n",
      "2023-12-31 20:35:00        1.001564         1.000971       1.000593  1.000424   \n",
      "2023-12-31 20:36:00        1.001434         1.000647       1.000786  1.000434   \n",
      "2023-12-31 20:37:00        1.001175         1.001295       0.999880  1.000424   \n",
      "2023-12-31 20:38:00        1.001045         1.001295       0.999750  1.000417   \n",
      "2023-12-31 20:39:00        1.001044         1.000971       1.000072  1.000411   \n",
      "\n",
      "                          STD         Z  \n",
      "open_time                                \n",
      "2022-01-01 00:59:00  0.000578 -2.129327  \n",
      "2022-01-01 01:00:00  0.000569 -0.399127  \n",
      "2022-01-01 01:01:00  0.000567 -0.578591  \n",
      "2022-01-01 01:02:00  0.000567 -0.361126  \n",
      "2022-01-01 01:03:00  0.000570 -1.158700  \n",
      "...                       ...       ...  \n",
      "2023-12-31 20:35:00  0.000341  0.496909  \n",
      "2023-12-31 20:36:00  0.000343  1.029181  \n",
      "2023-12-31 20:37:00  0.000350 -1.553060  \n",
      "2023-12-31 20:38:00  0.000359 -1.858142  \n",
      "2023-12-31 20:39:00  0.000362 -0.935601  \n",
      "\n",
      "[700941 rows x 10 columns]\n"
     ]
    }
   ],
   "source": [
    "fwd_path = os.path.abspath(os.path.join(os.getcwd(), \"..\")) #取得當前工作目錄的上一集目錄，並存入路徑\n",
    "stock_num = ['UNIUSDT_期貨','UNIUSDT_現貨','DYDXUSDT_期貨','DYDXUSDT_現貨']\n",
    "df = pd.DataFrame()\n",
    "for i in stock_num:\n",
    "    file_path = \"C:/python/Crypto/Train_Set/\"+ i +\".csv\"\n",
    "    file = pd.read_csv(file_path, index_col = 'open_time')\n",
    "    df = df.dropna()\n",
    "    file = pd.DataFrame(file['close'])\n",
    "    df = df.dropna()\n",
    "    df = pd.concat([df, file], axis = 1)\n",
    "    df = df.dropna()\n",
    "df.columns = ['UNIUSDT期貨價格','UNIUSDT現貨價格','DYDXUSDT期貨價格','DYDXUSDT現貨價格']\n",
    "df = df.dropna()\n",
    "\n",
    "df['UNIUSDT_Spread'] = df['UNIUSDT期貨價格'] / df['UNIUSDT現貨價格']\n",
    "df['DYDXUSDT_Spread'] = df['DYDXUSDT期貨價格'] / df['DYDXUSDT現貨價格']\n",
    "df['Target_Spread'] = df['UNIUSDT_Spread'] / df['DYDXUSDT_Spread']\n",
    "df['SMA'] = df['Target_Spread'].rolling(60).mean()\n",
    "df['STD'] = df['Target_Spread'].rolling(60).std()\n",
    "df['Z'] = (df['Target_Spread'] - df['SMA']) / df['STD']\n",
    "df = df.dropna()\n",
    "print(df)"
   ]
  },
  {
   "cell_type": "markdown",
   "metadata": {},
   "source": [
    "## ADF檢定"
   ]
  },
  {
   "cell_type": "code",
   "execution_count": 3,
   "metadata": {},
   "outputs": [],
   "source": [
    "def adf_test(series, title=''):\n",
    "    print(f'Augmented Dickey-Fuller Test: {title}')\n",
    "    result = adfuller(series.dropna(), autolag='AIC') # .dropna() handles differenced data\n",
    "    labels = ['ADF test statistic', 'p-value', 'Number of lags used', 'Number of observations used']\n",
    "    out = pd.Series(result[0:4], index=labels)\n",
    "    for k, v in result[4].items():\n",
    "        out[f'critical value ({k})'] = v\n",
    "    print(out)\n",
    "    if result[1] <= 0.05:  # 有顯著性，推翻虛無假設\n",
    "        print(\"Data has no unit root and is stationary\")\n",
    "    else:\n",
    "        print(\"Data has a unit root and is non-stationary\")"
   ]
  },
  {
   "cell_type": "code",
   "execution_count": 4,
   "metadata": {},
   "outputs": [
    {
     "name": "stdout",
     "output_type": "stream",
     "text": [
      "Series is from column: Z\n",
      "Augmented Dickey-Fuller Test: Z\n",
      "ADF test statistic               -102.309539\n",
      "p-value                             0.000000\n",
      "Number of lags used               110.000000\n",
      "Number of observations used    700830.000000\n",
      "critical value (1%)                -3.430359\n",
      "critical value (5%)                -2.861544\n",
      "critical value (10%)               -2.566772\n",
      "dtype: float64\n",
      "Data has no unit root and is stationary\n",
      "\n"
     ]
    }
   ],
   "source": [
    "columns_to_test = ['Z']  # 指定要測試的 column 名稱列表\n",
    "\n",
    "for col in columns_to_test:\n",
    "    print(f\"Series is from column: {col}\")\n",
    "    adf_test(df[col], title=col)\n",
    "    print()"
   ]
  }
 ],
 "metadata": {
  "kernelspec": {
   "display_name": "Python 3",
   "language": "python",
   "name": "python3"
  },
  "language_info": {
   "codemirror_mode": {
    "name": "ipython",
    "version": 3
   },
   "file_extension": ".py",
   "mimetype": "text/x-python",
   "name": "python",
   "nbconvert_exporter": "python",
   "pygments_lexer": "ipython3",
   "version": "3.12.0"
  }
 },
 "nbformat": 4,
 "nbformat_minor": 2
}
